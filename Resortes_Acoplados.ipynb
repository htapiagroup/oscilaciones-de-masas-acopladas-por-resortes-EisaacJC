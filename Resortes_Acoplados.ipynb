{
  "nbformat": 4,
  "nbformat_minor": 0,
  "metadata": {
    "colab": {
      "name": "Resortes Acoplados.ipynb",
      "provenance": [],
      "collapsed_sections": [],
      "include_colab_link": true
    },
    "kernelspec": {
      "name": "python3",
      "display_name": "Python 3"
    }
  },
  "cells": [
    {
      "cell_type": "markdown",
      "metadata": {
        "id": "view-in-github",
        "colab_type": "text"
      },
      "source": [
        "<a href=\"https://colab.research.google.com/github/htapiagroup/oscilaciones-de-masas-acopladas-por-resortes-EisaacJC/blob/master/Resortes_Acoplados.ipynb\" target=\"_parent\"><img src=\"https://colab.research.google.com/assets/colab-badge.svg\" alt=\"Open In Colab\"/></a>"
      ]
    },
    {
      "cell_type": "markdown",
      "metadata": {
        "id": "X2eOC0Bvf-aM",
        "colab_type": "text"
      },
      "source": [
        "# Resortes Acoplados\n",
        "\n",
        "---\n",
        "\n",
        "## Introducción a la ciencia de datos\n",
        "## Facultad de Física\n",
        "\n",
        "## Universidad Veracruzana\n",
        "\n",
        "\n",
        "---\n",
        "\n",
        "\n",
        "### Emmanuel Isaac Juárez Caballero"
      ]
    },
    {
      "cell_type": "markdown",
      "metadata": {
        "id": "cZBMsSt4ghQe",
        "colab_type": "text"
      },
      "source": [
        "Consideremos un sistema de dos resortes acoplados, si tenemos dos resortes acoplados, unidos por la presencia de tres resortes, uno que parte del origen a la primer masa, uno que los une en el intermedio y finalmente uno que está sujeto desde la segunda masa hasta la frontera.![Imagen de resortes](https://raw.githubusercontent.com/EisaacJC/Ciencia-de-Datos-Personal/master/resortes.PNG)\n",
        "\n",
        "Las ecuaciones de movimiento para un sistema como este pueden ser facilmente deducibes en términos del lagrangiano del sistema, considerando la energía asociada al momiento y al potencial elástico, de las ecuaciones de Euler- Lagrange para un potencial que no depende explicitamente del tiempo tenemos:\n",
        "\n",
        "\\begin{equation}\n",
        "    \\frac{d}{dt}\\frac{\\partial L}{\\partial \\dot{q}_k} -\\frac{\\partial L}{\\partial q_k}=0\n",
        "\\end{equation}\n",
        "Siendo $L$ el lagrangiano del sistema definido por $$L=K+U$$ donde $K$ y $U$ son la energía cinética y potencial respectivamente, que para el caso de un oscilador corresponde a $K=\\frac{1}{2}m\\dot{x}^2$ y $U=-\\frac{1}{2}kx^2$, de forma que se pueden obtener:\n",
        "\\begin{equation}\n",
        "    m_1\\ddot{x}=-k_1 x_1+k_{12}(x_2-1)\\\\\n",
        "    m_2\\ddot{x}=-k_3 x_2-k_12(x_2-x_1)\n",
        "\\end{equation}\n",
        "De manera análoga se puede calcular las ecuaciones de Hamilton, obteniendo:\n",
        "\\begin{eqnarray}\n",
        "H&=&\\frac{1}{2m}P_1^2+\\frac{1}{2m}P_2^2+\\frac{1}{2}k_1x_1^2+\\frac{1}{2}k_2(x_2-x_1)^2+\\frac{1}{2}k_3x_2^2 \\\\\n",
        "\\dot{P_1}&=&-\\frac{\\partial H}{\\partial x_1}=-k_1x_1+k_2(x_2-X_1) \\\\\n",
        "\\dot{P_2}&=&-\\frac{\\partial H}{\\partial x_2}=-k_3x_2-k_2(x_2-X_1) \\\\\n",
        "\\dot{x_1}&=&\\frac{\\partial H}{\\partial P_1}=\\frac{P_1}{m_1} \\\\\n",
        "\\dot{x_2}&=&\\frac{\\partial H}{\\partial P_2}=\\frac{P_2}{m_1}\n",
        "\\end{eqnarray}\n",
        "\n",
        "\n"
      ]
    },
    {
      "cell_type": "markdown",
      "metadata": {
        "id": "_7Ghw-_LzxbQ",
        "colab_type": "text"
      },
      "source": [
        "# Solución Numérica al problema\n",
        "\n",
        "\n",
        "---\n",
        "\n",
        "\n",
        "\n",
        "---\n",
        "\n"
      ]
    },
    {
      "cell_type": "code",
      "metadata": {
        "id": "nEEjtpv-z10V",
        "colab_type": "code",
        "colab": {}
      },
      "source": [
        "#Importando librerías útiles \n",
        "import numpy as np\n",
        "import matplotlib.pyplot as plt\n",
        "import time\n",
        "#Definiendo las variables iniciales\n",
        "k1=1.0\n",
        "k12=2.0\n",
        "k3=2.0\n",
        "m1=1\n",
        "m2=2\n",
        "L=1,5\n",
        "#Derivada del vectorQ\n",
        "def Q_dot(Q):\n",
        "    x1, x2, p1, p2= Q[0], Q[1], Q[2], Q[3]\n",
        "    x1_dot= p1/m1\n",
        "    x2_dot= p2/m2\n",
        "    p1_dot = -k1*x1 + k12*(x2-x1)\n",
        "    p2_dot = -k3*x2 - k12*(x2-x1)\n",
        "    return np.array([x1_dot, x2_dot,  p1_dot, p2_dot])"
      ],
      "execution_count": 0,
      "outputs": []
    },
    {
      "cell_type": "code",
      "metadata": {
        "id": "kgascL2B3ncs",
        "colab_type": "code",
        "colab": {}
      },
      "source": [
        "#Defininicion del paso de euler, calculando la derivada de y(t)\n",
        "def paso_euler(f, t_n, y_n, dt):\n",
        "    y_dot=f(t_n,y_n)\n",
        "    y_nmasuno= y_n+ dt*y_dot\n",
        "    return y_nmasuno\n"
      ],
      "execution_count": 0,
      "outputs": []
    },
    {
      "cell_type": "code",
      "metadata": {
        "id": "_VqdlvqT4IuZ",
        "colab_type": "code",
        "colab": {}
      },
      "source": [
        "def integrador_simple(f, t, y_0, dt):\n",
        "    tiempo=time.time()\n",
        "    t_0, t_f = t\n",
        "    n = int((t_f - t_0)/dt)  \n",
        "    d = len(y_0)  \n",
        "    y_tray = np.zeros(((n+1), d))  \n",
        "    t = np.linspace(t_0, t_f, n+1)  \n",
        "    y_tray[0, :] = y_0\n",
        "    tiempo=time.time()-tiempo\n",
        "    for i in range(n):\n",
        "        y_tray[i+1, :] = paso_euler(f, t[i], y_tray[i, :], dt)\n",
        "    print(\"El tiempo de computo es\"+str(tiempo))\n",
        "    return t, y_tray"
      ],
      "execution_count": 0,
      "outputs": []
    },
    {
      "cell_type": "code",
      "metadata": {
        "id": "4F0XOj-07Gdr",
        "colab_type": "code",
        "colab": {}
      },
      "source": [
        "def Q_Dot_t(t,y):\n",
        "  return Q_dot(y)"
      ],
      "execution_count": 0,
      "outputs": []
    },
    {
      "cell_type": "code",
      "metadata": {
        "id": "fwWxLSlyBf7t",
        "colab_type": "code",
        "outputId": "ac1349b2-f64e-4ed6-ce66-af4f4b9bc1c8",
        "colab": {
          "base_uri": "https://localhost:8080/",
          "height": 298
        }
      },
      "source": [
        "t, Q_Traj = integrador_simple(Q_Dot_t,[0,15],[0.5, -0.5, 0, 0],.001 )\n",
        "plt.plot(t,Q_Traj[:,0])\n",
        "plt.plot(t,Q_Traj[:,1])"
      ],
      "execution_count": 10,
      "outputs": [
        {
          "output_type": "stream",
          "text": [
            "El tiempo de computo es0.0032558441162109375\n"
          ],
          "name": "stdout"
        },
        {
          "output_type": "execute_result",
          "data": {
            "text/plain": [
              "[<matplotlib.lines.Line2D at 0x7f999136a240>]"
            ]
          },
          "metadata": {
            "tags": []
          },
          "execution_count": 10
        },
        {
          "output_type": "display_data",
          "data": {
            "image/png": "[encoded data removed]",
            "text/plain": [
              "<Figure size 432x288 with 1 Axes>"
            ]
          },
          "metadata": {
            "tags": []
          }
        }
      ]
    },
    {
      "cell_type": "markdown",
      "metadata": {
        "id": "W_l4eE9RNxD1",
        "colab_type": "text"
      },
      "source": [
        "# Cálculo de la energía\n",
        "Para el cálculo de la energía en el programa podemos considerar realizar el estudio del valor de la energía cinética $K$ y de la energía potencial $U$, de forma que paraa el Hamiltoniano tendríamos una estructura de la forma:\n",
        "\\begin{equation}\n",
        "H=K+U\n",
        "\\end{equation}\n",
        "Dicha función es conveniente agregarla en la función de integrador simple, de esta forma tendría la estructura:\n",
        "\n",
        "\n"
      ]
    },
    {
      "cell_type": "code",
      "metadata": {
        "id": "8lJJk_mkPipj",
        "colab_type": "code",
        "colab": {}
      },
      "source": [
        "def Q_Dot(Q):\n",
        "  x1, x2, p1, p2 = Q[0], Q[1], Q[2], Q[3]\n",
        "  x1_dot = p1/m1\n",
        "  x2_dot = p2/m2\n",
        "  p1_dot = -k1*x1 + k2*(x2-x1)\n",
        "  p2_dot = -k3*x2 - k2*(x2-x1)\n",
        "  return np.array([x1_dot, x2_dot,  p1_dot, p2_dot])"
      ],
      "execution_count": 0,
      "outputs": []
    },
    {
      "cell_type": "code",
      "metadata": {
        "id": "Nhrol979bDHa",
        "colab_type": "code",
        "colab": {}
      },
      "source": [
        "def Q_Dot_t(t,y):\n",
        "    return Q_Dot(y)"
      ],
      "execution_count": 0,
      "outputs": []
    },
    {
      "cell_type": "code",
      "metadata": {
        "id": "N7mfSo1fRujj",
        "colab_type": "code",
        "colab": {}
      },
      "source": [
        "def paso_euler(f,t_n,y_n,dt):\n",
        "  y_dot=f(t_n, y_n)\n",
        "  y_n_mas_1=y_n+dt*y_dot\n",
        "  return y_n_mas_1"
      ],
      "execution_count": 0,
      "outputs": []
    },
    {
      "cell_type": "code",
      "metadata": {
        "id": "n8TF8zSLBjpk",
        "colab_type": "code",
        "colab": {}
      },
      "source": [
        "def integrador_simple(f, t, y_0, dt):\n",
        "    tiempo = time.time()\n",
        "    t_0, t_f = t\n",
        "    n = int((t_f - t_0)/dt)\n",
        "    d = len(y_0)\n",
        "    y_tray = np.zeros(((n+1), d))\n",
        "    t = np.linspace(t_0, t_f, n+1)\n",
        "    y_tray[0, :] = y_0\n",
        "    U=np.zeros((n+1))\n",
        "    T=np.zeros((n+1))\n",
        "    H=np.zeros((n+1))\n",
        "    tiempo = time.time() - tiempo\n",
        "    for i in range(n):\n",
        "        y_tray[i+1, :] = paso_euler(f, t[i], y_tray[i, :], dt)\n",
        "        U[i+1]=1/2*k1*y_tray[i+1,0]**2+1/2*k3*y_tray[i+1,1]**2+1/2*k2*(y_tray[i+1,1]-y_tray[i+1,0])**2\n",
        "        T[i+1]=(1/(2*m1))*(y_tray[i+1,2])**2+(1/(2*m2))*(y_tray[i+1,3])**2\n",
        "        H[i+1]=U[i+1]+T[i+1]\n",
        "    print('Tiempo de computo = ' + ('%.5f' %tiempo) + 's')\n",
        "\n",
        "    return t, y_tray\n",
        "  "
      ],
      "execution_count": 0,
      "outputs": []
    },
    {
      "cell_type": "code",
      "metadata": {
        "id": "wZ4zKqV6PbXZ",
        "colab_type": "code",
        "outputId": "f14e5b3f-de07-48ff-a232-67f54434763c",
        "colab": {
          "base_uri": "https://localhost:8080/",
          "height": 300
        }
      },
      "source": [
        "k1=1\n",
        "k2= 1.5\n",
        "k3 = 0.5\n",
        "m1 = 0.5\n",
        "m2 = 1.5\n",
        "t, Q_Traj = integrador_simple(Q_Dot_t,[0,15],[1, 1, 3, 3],.0001 )\n",
        "E = np.zeros((Q_Traj.shape[0], 1))\n",
        "E[:,0] = (1/(2*m1))*Q_Traj[:,2]**2 + (1/(2*m2))*Q_Traj[:,3]**2 + (k1/2)*Q_Traj[:,0]**2 + (k2/2)*(Q_Traj[:,1] - Q_Traj[:,0])**2 + (k3/2)*Q_Traj[:,1]**2\n",
        "plt.plot(t,E)"
      ],
      "execution_count": 15,
      "outputs": [
        {
          "output_type": "stream",
          "text": [
            "Tiempo de computo = 0.01448s\n"
          ],
          "name": "stdout"
        },
        {
          "output_type": "execute_result",
          "data": {
            "text/plain": [
              "[<matplotlib.lines.Line2D at 0x7f9990e1a630>]"
            ]
          },
          "metadata": {
            "tags": []
          },
          "execution_count": 15
        },
        {
          "output_type": "display_data",
          "data": {
            "image/png": "[encoded data removed]",
            "text/plain": [
              "<Figure size 432x288 with 1 Axes>"
            ]
          },
          "metadata": {
            "tags": []
          }
        }
      ]
    },
    {
      "cell_type": "markdown",
      "metadata": {
        "id": "0cuEhsXajEYr",
        "colab_type": "text"
      },
      "source": [
        "El resultado anterior pareciera indicar que existe un aumento de energía, sin embargo esto lo podemos relacionar con el error numérico asociado a el cálculo"
      ]
    },
    {
      "cell_type": "markdown",
      "metadata": {
        "id": "Q1tpOMrRjyBV",
        "colab_type": "text"
      },
      "source": [
        "# Durante el fin de semana haré las modificaciones para N masas, intenté pero descubrí que mi definición estaba erronea y lo que calculaba era algo totalmente absurdo"
      ]
    },
    {
      "cell_type": "markdown",
      "metadata": {
        "id": "0bDCVSbmtIC0",
        "colab_type": "text"
      },
      "source": [
        "Consideremos las ecs de movimiento:\n",
        "\n",
        "\\begin{equation}\n",
        "\\dot{x_{i}} = \\frac{\\partial H}{\\partial p_i} = \\frac{p_i}{m},\n",
        "\\end{equation}\n",
        "\n",
        "\\begin{equation}\n",
        "\\dot{p_{i}} = - \\frac{\\partial H}{\\partial x_i} = k(x_{i+1} - 2x_{i} + x_{i-1}).\n",
        "\\end{equation}"
      ]
    },
    {
      "cell_type": "code",
      "metadata": {
        "colab_type": "code",
        "id": "qx5E5qn6fklW",
        "colab": {}
      },
      "source": [
        "#Definamos nuevamente al vector derivda de Q de un sistema N masas\n",
        "m = 1.0\n",
        "k = 1.0\n",
        "def Q_Dot(y):\n",
        "    n=int(len(y)/2)\n",
        "    X = []\n",
        "    P = []\n",
        "    Xdot = []\n",
        "    Pdot = []\n",
        "    for i in range (int(n)):\n",
        "        X.append(float(y[i]))\n",
        "    for i in range (int(n),2*int(n)):\n",
        "        P.append(float(y[i]))\n",
        "    for i in range (int(n)):\n",
        "        Xdot.append(float(P[i]/m))\n",
        "    for i in range (int(n)):\n",
        "        X.append(0) \n",
        "        Pdot.append(k*(X[i+1]-2*X[i]+X[i-1]))\n",
        "        X.pop(n) \n",
        "    Xdot.extend(Pdot) \n",
        "    return np.asarray(Xdot)"
      ],
      "execution_count": 0,
      "outputs": []
    },
    {
      "cell_type": "code",
      "metadata": {
        "id": "8Ioiqsttemjc",
        "colab_type": "code",
        "colab": {}
      },
      "source": [
        "def paso_euler(f,t_n,y_n,dt):\n",
        "    y_dot=f(t_n, y_n)\n",
        "    y_n_mas_1=y_n+dt*y_dot\n",
        "    return y_n_mas_1"
      ],
      "execution_count": 0,
      "outputs": []
    },
    {
      "cell_type": "code",
      "metadata": {
        "id": "i8cjZzvVet9_",
        "colab_type": "code",
        "colab": {}
      },
      "source": [
        "def Q_Dot_t(t,y):\n",
        "  return Q_Dot(y)"
      ],
      "execution_count": 0,
      "outputs": []
    },
    {
      "cell_type": "code",
      "metadata": {
        "id": "tQ-C7Gpeexih",
        "colab_type": "code",
        "colab": {}
      },
      "source": [
        "def integrador_simple(f,t,y_0,dt):\n",
        "    tiempo=time.time()\n",
        "    t_0,t_f=t\n",
        "    n=int((t_f-t_0)/dt)\n",
        "    d=len(y_0)\n",
        "    y_tray=np.zeros(((n+1),d))\n",
        "    t=np.linspace(t_0,t_f,n+1)\n",
        "    y_tray[0,:]=y_0\n",
        "    tiempo=time.time()-tiempo\n",
        "    for i in range(n):\n",
        "        y_tray[i+1,:]=paso_euler(f,t[i],y_tray[i,:],dt)\n",
        "    print(\"El tiempo de computo es = \" + str(tiempo))\n",
        "    return t, y_tray\n",
        "    print(\"introduce el vector Y con sus coordenadas de momentos\")"
      ],
      "execution_count": 0,
      "outputs": []
    },
    {
      "cell_type": "code",
      "metadata": {
        "id": "w3FjdU9BfhQL",
        "colab_type": "code",
        "colab": {}
      },
      "source": [
        ""
      ],
      "execution_count": 0,
      "outputs": []
    },
    {
      "cell_type": "code",
      "metadata": {
        "id": "FVQNVXpGfAuh",
        "colab_type": "code",
        "colab": {
          "base_uri": "https://localhost:8080/",
          "height": 298
        },
        "outputId": "878d1f40-0455-44d1-bc4a-d2c3d9a4f049"
      },
      "source": [
        "t, Q_Traj= integrador_simple(Q_Dot_t,[0,10],[-0.5,5,3,6],0.001)\n",
        "plt.plot(t,Q_Traj[:,0])\n",
        "plt.plot(t,Q_Traj[:,1])"
      ],
      "execution_count": 44,
      "outputs": [
        {
          "output_type": "stream",
          "text": [
            "El tiempo de computo es = 0.0011076927185058594\n"
          ],
          "name": "stdout"
        },
        {
          "output_type": "execute_result",
          "data": {
            "text/plain": [
              "[<matplotlib.lines.Line2D at 0x7f9990c02e10>]"
            ]
          },
          "metadata": {
            "tags": []
          },
          "execution_count": 44
        },
        {
          "output_type": "display_data",
          "data": {
            "image/png": "[encoded data removed]",
            "text/plain": [
              "<Figure size 432x288 with 1 Axes>"
            ]
          },
          "metadata": {
            "tags": []
          }
        }
      ]
    },
    {
      "cell_type": "code",
      "metadata": {
        "id": "v706eVhAfQTv",
        "colab_type": "code",
        "colab": {}
      },
      "source": [
        ""
      ],
      "execution_count": 0,
      "outputs": []
    }
  ]
}