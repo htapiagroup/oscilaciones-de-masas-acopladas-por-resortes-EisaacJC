{
  "nbformat": 4,
  "nbformat_minor": 0,
  "metadata": {
    "colab": {
      "name": "Resortes Acoplados.ipynb",
      "provenance": [],
      "collapsed_sections": [],
      "include_colab_link": true
    },
    "kernelspec": {
      "name": "python3",
      "display_name": "Python 3"
    }
  },
  "cells": [
    {
      "cell_type": "markdown",
      "metadata": {
        "id": "view-in-github",
        "colab_type": "text"
      },
      "source": [
        "<a href=\"https://colab.research.google.com/github/htapiagroup/oscilaciones-de-masas-acopladas-por-resortes-EisaacJC/blob/master/Resortes_Acoplados.ipynb\" target=\"_parent\"><img src=\"https://colab.research.google.com/assets/colab-badge.svg\" alt=\"Open In Colab\"/></a>"
      ]
    },
    {
      "cell_type": "markdown",
      "metadata": {
        "id": "X2eOC0Bvf-aM",
        "colab_type": "text"
      },
      "source": [
        "# Resortes Acoplados\n",
        "\n",
        "---\n",
        "\n",
        "## Introducción a la ciencia de datos\n",
        "## Facultad de Física\n",
        "\n",
        "## Universidad Veracruzana\n",
        "\n",
        "\n",
        "---\n",
        "\n",
        "\n",
        "### Emmanuel Isaac Juárez Caballero"
      ]
    },
    {
      "cell_type": "markdown",
      "metadata": {
        "id": "cZBMsSt4ghQe",
        "colab_type": "text"
      },
      "source": [
        "Consideremos un sistema de dos resortes acoplados, si tenemos dos resortes acoplados, unidos por la presencia de tres resortes, uno que parte del origen a la primer masa, uno que los une en el intermedio y finalmente uno que está sujeto desde la segunda masa hasta la frontera.![Imagen de resortes](https://raw.githubusercontent.com/EisaacJC/Ciencia-de-Datos-Personal/master/resortes.PNG)\n",
        "\n",
        "Las ecuaciones de movimiento para un sistema como este pueden ser facilmente deducibes en términos del lagrangiano del sistema, considerando la energía asociada al momiento y al potencial elástico, de las ecuaciones de Euler- Lagrange para un potencial que no depende explicitamente del tiempo tenemos:\n",
        "\n",
        "\\begin{equation}\n",
        "    \\frac{d}{dt}\\frac{\\partial L}{\\partial \\dot{q}_k} -\\frac{\\partial L}{\\partial q_k}=0\n",
        "\\end{equation}\n",
        "Siendo $L$ el lagrangiano del sistema definido por $$L=K+U$$ donde $K$ y $U$ son la energía cinética y potencial respectivamente, que para el caso de un oscilador corresponde a $K=\\frac{1}{2}m\\dot{x}^2$ y $U=-\\frac{1}{2}kx^2$, de forma que se pueden obtener:\n",
        "\\begin{equation}\n",
        "    m_1\\ddot{x}=-k_1 x_1+k_{12}(x_2-1)\\\\\n",
        "    m_2\\ddot{x}=-k_3 x_2-k_12(x_2-x_1)\n",
        "\\end{equation}\n",
        "De manera análoga se puede calcular las ecuaciones de Hamilton, obteniendo:\n",
        "\\begin{eqnarray}\n",
        "H&=&\\frac{1}{2m}P_1^2+\\frac{1}{2m}P_2^2+\\frac{1}{2}k_1x_1^2+\\frac{1}{2}k_2(x_2-x_1)^2+\\frac{1}{2}k_3x_2^2 \\\\\n",
        "\\dot{P_1}&=&-\\frac{\\partial H}{\\partial x_1}=-k_1x_1+k_2(x_2-X_1) \\\\\n",
        "\\dot{P_2}&=&-\\frac{\\partial H}{\\partial x_2}=-k_3x_2-k_2(x_2-X_1) \\\\\n",
        "\\dot{x_1}&=&\\frac{\\partial H}{\\partial P_1}=\\frac{P_1}{m_1} \\\\\n",
        "\\dot{x_2}&=&\\frac{\\partial H}{\\partial P_2}=\\frac{P_2}{m_1}\n",
        "\\end{eqnarray}\n",
        "\n",
        "\n"
      ]
    },
    {
      "cell_type": "markdown",
      "metadata": {
        "id": "_7Ghw-_LzxbQ",
        "colab_type": "text"
      },
      "source": [
        "# Solución Numérica al problema\n",
        "\n",
        "\n",
        "---\n",
        "\n",
        "\n",
        "\n",
        "---\n",
        "\n"
      ]
    },
    {
      "cell_type": "code",
      "metadata": {
        "id": "nEEjtpv-z10V",
        "colab_type": "code",
        "colab": {}
      },
      "source": [
        "#Importando librerías útiles \n",
        "import numpy as np\n",
        "import matplotlib.pyplot as plt\n",
        "import time\n",
        "#Definiendo las variables iniciales\n",
        "k1=1.0\n",
        "k12=2.0\n",
        "k3=2.0\n",
        "m1=1\n",
        "m2=2\n",
        "L=1,5\n",
        "#Derivada del vectorQ\n",
        "def Q_dot(Q):\n",
        "    x1, x2, p1, p2= Q[0], Q[1], Q[2], Q[3]\n",
        "    x1_dot= p1/m1\n",
        "    x2_dot= p2/m2\n",
        "    p1_dot = -k1*x1 + k12*(x2-x1)\n",
        "    p2_dot = -k3*x2 - k12*(x2-x1)\n",
        "    return np.array([x1_dot, x2_dot,  p1_dot, p2_dot])"
      ],
      "execution_count": 0,
      "outputs": []
    },
    {
      "cell_type": "code",
      "metadata": {
        "id": "kgascL2B3ncs",
        "colab_type": "code",
        "colab": {}
      },
      "source": [
        "#Defininicion del paso de euler, calculando la derivada de y(t)\n",
        "def paso_euler(f, t_n, y_n, dt):\n",
        "    y_dot=f(t_n,y_n)\n",
        "    y_nmasuno= y_n+ dt*y_dot\n",
        "    return y_nmasuno\n"
      ],
      "execution_count": 0,
      "outputs": []
    },
    {
      "cell_type": "code",
      "metadata": {
        "id": "_VqdlvqT4IuZ",
        "colab_type": "code",
        "colab": {}
      },
      "source": [
        "def integrador_simple(f, t, y_0, dt):\n",
        "    tiempo=time.time()\n",
        "    t_0, t_f = t\n",
        "    n = int((t_f - t_0)/dt)  \n",
        "    d = len(y_0)  \n",
        "    y_tray = np.zeros(((n+1), d))  \n",
        "    t = np.linspace(t_0, t_f, n+1)  \n",
        "    y_tray[0, :] = y_0\n",
        "    tiempo=time.time()-tiempo\n",
        "    for i in range(n):\n",
        "        y_tray[i+1, :] = paso_euler(f, t[i], y_tray[i, :], dt)\n",
        "    print(\"El tiempo de computo es\"+str(tiempo))\n",
        "    return t, y_tray"
      ],
      "execution_count": 0,
      "outputs": []
    },
    {
      "cell_type": "code",
      "metadata": {
        "id": "4F0XOj-07Gdr",
        "colab_type": "code",
        "colab": {}
      },
      "source": [
        "def Q_Dot_t(t,y):\n",
        "  return Q_dot(y)"
      ],
      "execution_count": 0,
      "outputs": []
    },
    {
      "cell_type": "code",
      "metadata": {
        "id": "fwWxLSlyBf7t",
        "colab_type": "code",
        "outputId": "9600393e-02a1-4828-997f-adf9bde8b069",
        "colab": {
          "base_uri": "https://localhost:8080/",
          "height": 298
        }
      },
      "source": [
        "t, Q_Traj = integrador_simple(Q_Dot_t,[0,15],[0.5, -0.5, 0, 0],.001 )\n",
        "plt.plot(t,Q_Traj[:,0])\n",
        "plt.plot(t,Q_Traj[:,1])"
      ],
      "execution_count": 5,
      "outputs": [
        {
          "output_type": "stream",
          "text": [
            "El tiempo de computo es0.002016305923461914\n"
          ],
          "name": "stdout"
        },
        {
          "output_type": "execute_result",
          "data": {
            "text/plain": [
              "[<matplotlib.lines.Line2D at 0x7f08e0508390>]"
            ]
          },
          "metadata": {
            "tags": []
          },
          "execution_count": 5
        },
        {
          "output_type": "display_data",
          "data": {
            "image/png": "[encoded data removed]",
            "text/plain": [
              "<Figure size 432x288 with 1 Axes>"
            ]
          },
          "metadata": {
            "tags": []
          }
        }
      ]
    },
    {
      "cell_type": "markdown",
      "metadata": {
        "id": "W_l4eE9RNxD1",
        "colab_type": "text"
      },
      "source": [
        "# Cálculo de la energía\n",
        "Para el cálculo de la energía en el programa podemos considerar realizar el estudio del valor de la energía cinética $K$ y de la energía potencial $U$, de forma que paraa el Hamiltoniano tendríamos una estructura de la forma:\n",
        "\\begin{equation}\n",
        "H=K+U\n",
        "\\end{equation}\n",
        "Dicha función es conveniente agregarla en la función de integrador simple, de esta forma tendría la estructura:\n",
        "\n",
        "\n"
      ]
    },
    {
      "cell_type": "code",
      "metadata": {
        "id": "8lJJk_mkPipj",
        "colab_type": "code",
        "colab": {}
      },
      "source": [
        "def Q_Dot(Q):\n",
        "  x1, x2, p1, p2 = Q[0], Q[1], Q[2], Q[3]\n",
        "  x1_dot = p1/m1\n",
        "  x2_dot = p2/m2\n",
        "  p1_dot = -k1*x1 + k2*(x2-x1)\n",
        "  p2_dot = -k3*x2 - k2*(x2-x1)\n",
        "  return np.array([x1_dot, x2_dot,  p1_dot, p2_dot])"
      ],
      "execution_count": 0,
      "outputs": []
    },
    {
      "cell_type": "code",
      "metadata": {
        "id": "Nhrol979bDHa",
        "colab_type": "code",
        "colab": {}
      },
      "source": [
        "def Q_Dot_t(t,y):\n",
        "    return Q_Dot(y)"
      ],
      "execution_count": 0,
      "outputs": []
    },
    {
      "cell_type": "code",
      "metadata": {
        "id": "N7mfSo1fRujj",
        "colab_type": "code",
        "colab": {}
      },
      "source": [
        "def paso_euler(f,t_n,y_n,dt):\n",
        "  y_dot=f(t_n, y_n)\n",
        "  y_n_mas_1=y_n+dt*y_dot\n",
        "  return y_n_mas_1"
      ],
      "execution_count": 0,
      "outputs": []
    },
    {
      "cell_type": "code",
      "metadata": {
        "id": "n8TF8zSLBjpk",
        "colab_type": "code",
        "colab": {}
      },
      "source": [
        "def integrador_simple(f, t, y_0, dt):\n",
        "    tiempo = time.time()\n",
        "    t_0, t_f = t\n",
        "    n = int((t_f - t_0)/dt)\n",
        "    d = len(y_0)\n",
        "    y_tray = np.zeros(((n+1), d))\n",
        "    t = np.linspace(t_0, t_f, n+1)\n",
        "    y_tray[0, :] = y_0\n",
        "    U=np.zeros((n+1))\n",
        "    T=np.zeros((n+1))\n",
        "    H=np.zeros((n+1))\n",
        "    tiempo = time.time() - tiempo\n",
        "    for i in range(n):\n",
        "        y_tray[i+1, :] = paso_euler(f, t[i], y_tray[i, :], dt)\n",
        "        U[i+1]=1/2*k1*y_tray[i+1,0]**2+1/2*k3*y_tray[i+1,1]**2+1/2*k2*(y_tray[i+1,1]-y_tray[i+1,0])**2\n",
        "        T[i+1]=(1/(2*m1))*(y_tray[i+1,2])**2+(1/(2*m2))*(y_tray[i+1,3])**2\n",
        "        H[i+1]=U[i+1]+T[i+1]\n",
        "    print('Tiempo de computo = ' + ('%.5f' %tiempo) + 's')\n",
        "\n",
        "    return t, y_tray\n",
        "  "
      ],
      "execution_count": 0,
      "outputs": []
    },
    {
      "cell_type": "code",
      "metadata": {
        "id": "wZ4zKqV6PbXZ",
        "colab_type": "code",
        "outputId": "095aa92b-aae0-48e3-d977-4aa7cbe0bd90",
        "colab": {
          "base_uri": "https://localhost:8080/",
          "height": 300
        }
      },
      "source": [
        "k1=1\n",
        "k2= 1.5\n",
        "k3 = 0.5\n",
        "m1 = 0.5\n",
        "m2 = 1.5\n",
        "t, Q_Traj = integrador_simple(Q_Dot_t,[0,15],[1, 1, 3, 3],.0001 )\n",
        "E = np.zeros((Q_Traj.shape[0], 1))\n",
        "E[:,0] = (1/(2*m1))*Q_Traj[:,2]**2 + (1/(2*m2))*Q_Traj[:,3]**2 + (k1/2)*Q_Traj[:,0]**2 + (k2/2)*(Q_Traj[:,1] - Q_Traj[:,0])**2 + (k3/2)*Q_Traj[:,1]**2\n",
        "plt.plot(t,E)"
      ],
      "execution_count": 10,
      "outputs": [
        {
          "output_type": "stream",
          "text": [
            "Tiempo de computo = 0.01244s\n"
          ],
          "name": "stdout"
        },
        {
          "output_type": "execute_result",
          "data": {
            "text/plain": [
              "[<matplotlib.lines.Line2D at 0x7f08df7c59e8>]"
            ]
          },
          "metadata": {
            "tags": []
          },
          "execution_count": 10
        },
        {
          "output_type": "display_data",
          "data": {
            "image/png": "[encoded data removed]",
            "text/plain": [
              "<Figure size 432x288 with 1 Axes>"
            ]
          },
          "metadata": {
            "tags": []
          }
        }
      ]
    },
    {
      "cell_type": "markdown",
      "metadata": {
        "id": "0cuEhsXajEYr",
        "colab_type": "text"
      },
      "source": [
        "El resultado anterior pareciera indicar que existe un aumento de energía, sin embargo esto lo podemos relacionar con el error numérico asociado a el cálculo"
      ]
    },
    {
      "cell_type": "markdown",
      "metadata": {
        "id": "Q1tpOMrRjyBV",
        "colab_type": "text"
      },
      "source": [
        "# Durante el fin de semana haré las modificaciones para N masas, intenté pero descubrí que mi definición estaba erronea y lo que calculaba era algo totalmente absurdo"
      ]
    },
    {
      "cell_type": "markdown",
      "metadata": {
        "id": "0bDCVSbmtIC0",
        "colab_type": "text"
      },
      "source": [
        "Consideremos las ecs de movimiento:\n",
        "\n",
        "\\begin{equation}\n",
        "\\dot{x_{i}} = \\frac{\\partial H}{\\partial p_i} = \\frac{p_i}{m},\n",
        "\\end{equation}\n",
        "\n",
        "\\begin{equation}\n",
        "\\dot{p_{i}} = - \\frac{\\partial H}{\\partial x_i} = k(x_{i+1} - 2x_{i} + x_{i-1}).\n",
        "\\end{equation}"
      ]
    },
    {
      "cell_type": "code",
      "metadata": {
        "colab_type": "code",
        "id": "qx5E5qn6fklW",
        "colab": {
          "base_uri": "https://localhost:8080/",
          "height": 151
        },
        "outputId": "5c035c3e-1ca1-4466-d75e-08c553163a04"
      },
      "source": [
        "#Definamos nuevamente al vector derivda de Q de un sistema N masas\n",
        "N=int(input(\"Introduce el número de partículas:\"))\n",
        "#xi=np.zeros(0,N)\n",
        "#pi=np.zeros(0,N)\n",
        "xi= []\n",
        "pi= []\n",
        "for i in range(0,N):\n",
        "    xi.append(float(input(\"Ingresa los valores para las posiciones iniciales:\")))\n",
        "    pi.append(float(input(\"Ingresa los valores para los momentos iniciales:\")))\n",
        "print(xi,pi)\n",
        "\n"
      ],
      "execution_count": 11,
      "outputs": [
        {
          "output_type": "stream",
          "text": [
            "Introduce el número de partículas:3\n",
            "Ingresa los valores para las posiciones iniciales:2\n",
            "Ingresa los valores para los momentos iniciales:1\n",
            "Ingresa los valores para las posiciones iniciales:2\n",
            "Ingresa los valores para los momentos iniciales:4\n",
            "Ingresa los valores para las posiciones iniciales:1\n",
            "Ingresa los valores para los momentos iniciales:3\n",
            "[2.0, 2.0, 1.0] [1.0, 4.0, 3.0]\n"
          ],
          "name": "stdout"
        }
      ]
    },
    {
      "cell_type": "code",
      "metadata": {
        "id": "PmA5-gIkmsDa",
        "colab_type": "code",
        "colab": {}
      },
      "source": [
        "def Q_dot(xi):\n",
        "    pidot=[]\n",
        "    for i in range(0,N-1):\n",
        "        pidot.append(k*(xi[i+1]-2*xi[i]+xi[i-1]))\n",
        "    print(pidot)"
      ],
      "execution_count": 0,
      "outputs": []
    },
    {
      "cell_type": "code",
      "metadata": {
        "id": "f5qwS4i2wcEb",
        "colab_type": "code",
        "colab": {}
      },
      "source": [
        "def Q_dot_t_N(t,y):\n",
        "  return Q_dot(Q)"
      ],
      "execution_count": 0,
      "outputs": []
    },
    {
      "cell_type": "code",
      "metadata": {
        "id": "G6yqZNw50_9O",
        "colab_type": "code",
        "colab": {}
      },
      "source": [
        "def paso_euler(f,t_n,y_n,dt):\n",
        "  y_dot=f(t_n, y_n)\n",
        "  y_n_mas_1=y_n+dt*y_dot\n",
        "  return y_n_mas_1"
      ],
      "execution_count": 0,
      "outputs": []
    },
    {
      "cell_type": "code",
      "metadata": {
        "id": "Vo0NT5C7b12H",
        "colab_type": "code",
        "colab": {}
      },
      "source": [
        "def Q_dot_t(t,y):\n",
        "  return Q_Dot(y)"
      ],
      "execution_count": 0,
      "outputs": []
    },
    {
      "cell_type": "code",
      "metadata": {
        "id": "BwFP_NE1o9LY",
        "colab_type": "code",
        "colab": {
          "base_uri": "https://localhost:8080/",
          "height": 298
        },
        "outputId": "ea44d70d-fb20-40ec-e72d-3b3a80083ff1"
      },
      "source": [
        "def integrador_simple(f,t,y_0,dt):\n",
        "  tiempo=time.time()\n",
        "  t_0,t_f=t\n",
        "  n=int((t_f-t_0)/dt)\n",
        "  d=len(y_0)\n",
        "  y_tray=np.zeros(((n+1),d))\n",
        "  t=np.linspace(t_0,t_f,n+1)\n",
        "  y_tray[0,:]=y_0\n",
        "  tiempo=time.time()-tiempo\n",
        "  for i in range(n):\n",
        "    y_tray[i+1,:]=paso_euler(f,t[i],y_tray[i,:],dt)\n",
        "  print(\"El tiempo de computo es = \" + (\"%.5f\" %tiempo) + \"s\")\n",
        "  return t, y_tray\n",
        "t, Q_Traj= integrador_simple(Q_Dot_t,[0,4],[-1,1,0,0],0.001)\n",
        "plt.plot(t,Q_Traj[:,0])\n",
        "plt.plot(t,Q_Traj[:,1])"
      ],
      "execution_count": 36,
      "outputs": [
        {
          "output_type": "stream",
          "text": [
            "El tiempo de computo es = 0.00097s\n"
          ],
          "name": "stdout"
        },
        {
          "output_type": "execute_result",
          "data": {
            "text/plain": [
              "[<matplotlib.lines.Line2D at 0x7f08df603898>]"
            ]
          },
          "metadata": {
            "tags": []
          },
          "execution_count": 36
        },
        {
          "output_type": "display_data",
          "data": {
            "image/png": "[encoded data removed]",
            "text/plain": [
              "<Figure size 432x288 with 1 Axes>"
            ]
          },
          "metadata": {
            "tags": []
          }
        }
      ]
    },
    {
      "cell_type": "code",
      "metadata": {
        "id": "I4YI878ZpL18",
        "colab_type": "code",
        "colab": {}
      },
      "source": [
        ""
      ],
      "execution_count": 0,
      "outputs": []
    },
    {
      "cell_type": "code",
      "metadata": {
        "id": "NtNDB7iHpv8f",
        "colab_type": "code",
        "colab": {}
      },
      "source": [
        ""
      ],
      "execution_count": 0,
      "outputs": []
    }
  ]
}